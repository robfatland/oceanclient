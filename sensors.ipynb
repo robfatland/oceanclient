{
 "cells": [
  {
   "cell_type": "markdown",
   "id": "8050fa00-a7dc-445d-9f38-418eeb98aa8a",
   "metadata": {},
   "source": [
    "## Ocean Data Client\n",
    "\n",
    "This code produces two dataframes -- salinity and temperature -- and renders a chart. More details [below](#Data-client-explanation)."
   ]
  },
  {
   "cell_type": "code",
   "execution_count": 1,
   "id": "fd241f83-7d12-432c-9cb5-62b8044c44ac",
   "metadata": {
    "tags": []
   },
   "outputs": [
    {
     "ename": "ConnectionError",
     "evalue": "HTTPSConnectionPool(host='oceanography.azurewebsites.net', port=443): Max retries exceeded with url: /api/profile?day=3&index=2 (Caused by NameResolutionError(\"<urllib3.connection.HTTPSConnection object at 0x7aa1150eae40>: Failed to resolve 'oceanography.azurewebsites.net' ([Errno -2] Name or service not known)\"))",
     "output_type": "error",
     "traceback": [
      "\u001b[31m---------------------------------------------------------------------------\u001b[39m",
      "\u001b[31mgaierror\u001b[39m                                  Traceback (most recent call last)",
      "\u001b[36mFile \u001b[39m\u001b[32m~/miniconda3/envs/epipelargosy/lib/python3.13/site-packages/urllib3/connection.py:198\u001b[39m, in \u001b[36mHTTPConnection._new_conn\u001b[39m\u001b[34m(self)\u001b[39m\n\u001b[32m    197\u001b[39m \u001b[38;5;28;01mtry\u001b[39;00m:\n\u001b[32m--> \u001b[39m\u001b[32m198\u001b[39m     sock = connection.create_connection(\n\u001b[32m    199\u001b[39m         (\u001b[38;5;28mself\u001b[39m._dns_host, \u001b[38;5;28mself\u001b[39m.port),\n\u001b[32m    200\u001b[39m         \u001b[38;5;28mself\u001b[39m.timeout,\n\u001b[32m    201\u001b[39m         source_address=\u001b[38;5;28mself\u001b[39m.source_address,\n\u001b[32m    202\u001b[39m         socket_options=\u001b[38;5;28mself\u001b[39m.socket_options,\n\u001b[32m    203\u001b[39m     )\n\u001b[32m    204\u001b[39m \u001b[38;5;28;01mexcept\u001b[39;00m socket.gaierror \u001b[38;5;28;01mas\u001b[39;00m e:\n",
      "\u001b[36mFile \u001b[39m\u001b[32m~/miniconda3/envs/epipelargosy/lib/python3.13/site-packages/urllib3/util/connection.py:60\u001b[39m, in \u001b[36mcreate_connection\u001b[39m\u001b[34m(address, timeout, source_address, socket_options)\u001b[39m\n\u001b[32m     58\u001b[39m     \u001b[38;5;28;01mraise\u001b[39;00m LocationParseError(\u001b[33mf\u001b[39m\u001b[33m\"\u001b[39m\u001b[33m'\u001b[39m\u001b[38;5;132;01m{\u001b[39;00mhost\u001b[38;5;132;01m}\u001b[39;00m\u001b[33m'\u001b[39m\u001b[33m, label empty or too long\u001b[39m\u001b[33m\"\u001b[39m) \u001b[38;5;28;01mfrom\u001b[39;00m\u001b[38;5;250m \u001b[39m\u001b[38;5;28;01mNone\u001b[39;00m\n\u001b[32m---> \u001b[39m\u001b[32m60\u001b[39m \u001b[38;5;28;01mfor\u001b[39;00m res \u001b[38;5;129;01min\u001b[39;00m socket.getaddrinfo(host, port, family, socket.SOCK_STREAM):\n\u001b[32m     61\u001b[39m     af, socktype, proto, canonname, sa = res\n",
      "\u001b[36mFile \u001b[39m\u001b[32m~/miniconda3/envs/epipelargosy/lib/python3.13/socket.py:977\u001b[39m, in \u001b[36mgetaddrinfo\u001b[39m\u001b[34m(host, port, family, type, proto, flags)\u001b[39m\n\u001b[32m    976\u001b[39m addrlist = []\n\u001b[32m--> \u001b[39m\u001b[32m977\u001b[39m \u001b[38;5;28;01mfor\u001b[39;00m res \u001b[38;5;129;01min\u001b[39;00m _socket.getaddrinfo(host, port, family, \u001b[38;5;28mtype\u001b[39m, proto, flags):\n\u001b[32m    978\u001b[39m     af, socktype, proto, canonname, sa = res\n",
      "\u001b[31mgaierror\u001b[39m: [Errno -2] Name or service not known",
      "\nThe above exception was the direct cause of the following exception:\n",
      "\u001b[31mNameResolutionError\u001b[39m                       Traceback (most recent call last)",
      "\u001b[36mFile \u001b[39m\u001b[32m~/miniconda3/envs/epipelargosy/lib/python3.13/site-packages/urllib3/connectionpool.py:787\u001b[39m, in \u001b[36mHTTPConnectionPool.urlopen\u001b[39m\u001b[34m(self, method, url, body, headers, retries, redirect, assert_same_host, timeout, pool_timeout, release_conn, chunked, body_pos, preload_content, decode_content, **response_kw)\u001b[39m\n\u001b[32m    786\u001b[39m \u001b[38;5;66;03m# Make the request on the HTTPConnection object\u001b[39;00m\n\u001b[32m--> \u001b[39m\u001b[32m787\u001b[39m response = \u001b[38;5;28mself\u001b[39m._make_request(\n\u001b[32m    788\u001b[39m     conn,\n\u001b[32m    789\u001b[39m     method,\n\u001b[32m    790\u001b[39m     url,\n\u001b[32m    791\u001b[39m     timeout=timeout_obj,\n\u001b[32m    792\u001b[39m     body=body,\n\u001b[32m    793\u001b[39m     headers=headers,\n\u001b[32m    794\u001b[39m     chunked=chunked,\n\u001b[32m    795\u001b[39m     retries=retries,\n\u001b[32m    796\u001b[39m     response_conn=response_conn,\n\u001b[32m    797\u001b[39m     preload_content=preload_content,\n\u001b[32m    798\u001b[39m     decode_content=decode_content,\n\u001b[32m    799\u001b[39m     **response_kw,\n\u001b[32m    800\u001b[39m )\n\u001b[32m    802\u001b[39m \u001b[38;5;66;03m# Everything went great!\u001b[39;00m\n",
      "\u001b[36mFile \u001b[39m\u001b[32m~/miniconda3/envs/epipelargosy/lib/python3.13/site-packages/urllib3/connectionpool.py:488\u001b[39m, in \u001b[36mHTTPConnectionPool._make_request\u001b[39m\u001b[34m(self, conn, method, url, body, headers, retries, timeout, chunked, response_conn, preload_content, decode_content, enforce_content_length)\u001b[39m\n\u001b[32m    487\u001b[39m         new_e = _wrap_proxy_error(new_e, conn.proxy.scheme)\n\u001b[32m--> \u001b[39m\u001b[32m488\u001b[39m     \u001b[38;5;28;01mraise\u001b[39;00m new_e\n\u001b[32m    490\u001b[39m \u001b[38;5;66;03m# conn.request() calls http.client.*.request, not the method in\u001b[39;00m\n\u001b[32m    491\u001b[39m \u001b[38;5;66;03m# urllib3.request. It also calls makefile (recv) on the socket.\u001b[39;00m\n",
      "\u001b[36mFile \u001b[39m\u001b[32m~/miniconda3/envs/epipelargosy/lib/python3.13/site-packages/urllib3/connectionpool.py:464\u001b[39m, in \u001b[36mHTTPConnectionPool._make_request\u001b[39m\u001b[34m(self, conn, method, url, body, headers, retries, timeout, chunked, response_conn, preload_content, decode_content, enforce_content_length)\u001b[39m\n\u001b[32m    463\u001b[39m \u001b[38;5;28;01mtry\u001b[39;00m:\n\u001b[32m--> \u001b[39m\u001b[32m464\u001b[39m     \u001b[38;5;28mself\u001b[39m._validate_conn(conn)\n\u001b[32m    465\u001b[39m \u001b[38;5;28;01mexcept\u001b[39;00m (SocketTimeout, BaseSSLError) \u001b[38;5;28;01mas\u001b[39;00m e:\n",
      "\u001b[36mFile \u001b[39m\u001b[32m~/miniconda3/envs/epipelargosy/lib/python3.13/site-packages/urllib3/connectionpool.py:1093\u001b[39m, in \u001b[36mHTTPSConnectionPool._validate_conn\u001b[39m\u001b[34m(self, conn)\u001b[39m\n\u001b[32m   1092\u001b[39m \u001b[38;5;28;01mif\u001b[39;00m conn.is_closed:\n\u001b[32m-> \u001b[39m\u001b[32m1093\u001b[39m     conn.connect()\n\u001b[32m   1095\u001b[39m \u001b[38;5;66;03m# TODO revise this, see https://github.com/urllib3/urllib3/issues/2791\u001b[39;00m\n",
      "\u001b[36mFile \u001b[39m\u001b[32m~/miniconda3/envs/epipelargosy/lib/python3.13/site-packages/urllib3/connection.py:704\u001b[39m, in \u001b[36mHTTPSConnection.connect\u001b[39m\u001b[34m(self)\u001b[39m\n\u001b[32m    703\u001b[39m sock: socket.socket | ssl.SSLSocket\n\u001b[32m--> \u001b[39m\u001b[32m704\u001b[39m \u001b[38;5;28mself\u001b[39m.sock = sock = \u001b[38;5;28mself\u001b[39m._new_conn()\n\u001b[32m    705\u001b[39m server_hostname: \u001b[38;5;28mstr\u001b[39m = \u001b[38;5;28mself\u001b[39m.host\n",
      "\u001b[36mFile \u001b[39m\u001b[32m~/miniconda3/envs/epipelargosy/lib/python3.13/site-packages/urllib3/connection.py:205\u001b[39m, in \u001b[36mHTTPConnection._new_conn\u001b[39m\u001b[34m(self)\u001b[39m\n\u001b[32m    204\u001b[39m \u001b[38;5;28;01mexcept\u001b[39;00m socket.gaierror \u001b[38;5;28;01mas\u001b[39;00m e:\n\u001b[32m--> \u001b[39m\u001b[32m205\u001b[39m     \u001b[38;5;28;01mraise\u001b[39;00m NameResolutionError(\u001b[38;5;28mself\u001b[39m.host, \u001b[38;5;28mself\u001b[39m, e) \u001b[38;5;28;01mfrom\u001b[39;00m\u001b[38;5;250m \u001b[39m\u001b[34;01me\u001b[39;00m\n\u001b[32m    206\u001b[39m \u001b[38;5;28;01mexcept\u001b[39;00m SocketTimeout \u001b[38;5;28;01mas\u001b[39;00m e:\n",
      "\u001b[31mNameResolutionError\u001b[39m: <urllib3.connection.HTTPSConnection object at 0x7aa1150eae40>: Failed to resolve 'oceanography.azurewebsites.net' ([Errno -2] Name or service not known)",
      "\nThe above exception was the direct cause of the following exception:\n",
      "\u001b[31mMaxRetryError\u001b[39m                             Traceback (most recent call last)",
      "\u001b[36mFile \u001b[39m\u001b[32m~/miniconda3/envs/epipelargosy/lib/python3.13/site-packages/requests/adapters.py:667\u001b[39m, in \u001b[36mHTTPAdapter.send\u001b[39m\u001b[34m(self, request, stream, timeout, verify, cert, proxies)\u001b[39m\n\u001b[32m    666\u001b[39m \u001b[38;5;28;01mtry\u001b[39;00m:\n\u001b[32m--> \u001b[39m\u001b[32m667\u001b[39m     resp = conn.urlopen(\n\u001b[32m    668\u001b[39m         method=request.method,\n\u001b[32m    669\u001b[39m         url=url,\n\u001b[32m    670\u001b[39m         body=request.body,\n\u001b[32m    671\u001b[39m         headers=request.headers,\n\u001b[32m    672\u001b[39m         redirect=\u001b[38;5;28;01mFalse\u001b[39;00m,\n\u001b[32m    673\u001b[39m         assert_same_host=\u001b[38;5;28;01mFalse\u001b[39;00m,\n\u001b[32m    674\u001b[39m         preload_content=\u001b[38;5;28;01mFalse\u001b[39;00m,\n\u001b[32m    675\u001b[39m         decode_content=\u001b[38;5;28;01mFalse\u001b[39;00m,\n\u001b[32m    676\u001b[39m         retries=\u001b[38;5;28mself\u001b[39m.max_retries,\n\u001b[32m    677\u001b[39m         timeout=timeout,\n\u001b[32m    678\u001b[39m         chunked=chunked,\n\u001b[32m    679\u001b[39m     )\n\u001b[32m    681\u001b[39m \u001b[38;5;28;01mexcept\u001b[39;00m (ProtocolError, \u001b[38;5;167;01mOSError\u001b[39;00m) \u001b[38;5;28;01mas\u001b[39;00m err:\n",
      "\u001b[36mFile \u001b[39m\u001b[32m~/miniconda3/envs/epipelargosy/lib/python3.13/site-packages/urllib3/connectionpool.py:841\u001b[39m, in \u001b[36mHTTPConnectionPool.urlopen\u001b[39m\u001b[34m(self, method, url, body, headers, retries, redirect, assert_same_host, timeout, pool_timeout, release_conn, chunked, body_pos, preload_content, decode_content, **response_kw)\u001b[39m\n\u001b[32m    839\u001b[39m     new_e = ProtocolError(\u001b[33m\"\u001b[39m\u001b[33mConnection aborted.\u001b[39m\u001b[33m\"\u001b[39m, new_e)\n\u001b[32m--> \u001b[39m\u001b[32m841\u001b[39m retries = retries.increment(\n\u001b[32m    842\u001b[39m     method, url, error=new_e, _pool=\u001b[38;5;28mself\u001b[39m, _stacktrace=sys.exc_info()[\u001b[32m2\u001b[39m]\n\u001b[32m    843\u001b[39m )\n\u001b[32m    844\u001b[39m retries.sleep()\n",
      "\u001b[36mFile \u001b[39m\u001b[32m~/miniconda3/envs/epipelargosy/lib/python3.13/site-packages/urllib3/util/retry.py:519\u001b[39m, in \u001b[36mRetry.increment\u001b[39m\u001b[34m(self, method, url, response, error, _pool, _stacktrace)\u001b[39m\n\u001b[32m    518\u001b[39m     reason = error \u001b[38;5;129;01mor\u001b[39;00m ResponseError(cause)\n\u001b[32m--> \u001b[39m\u001b[32m519\u001b[39m     \u001b[38;5;28;01mraise\u001b[39;00m MaxRetryError(_pool, url, reason) \u001b[38;5;28;01mfrom\u001b[39;00m\u001b[38;5;250m \u001b[39m\u001b[34;01mreason\u001b[39;00m  \u001b[38;5;66;03m# type: ignore[arg-type]\u001b[39;00m\n\u001b[32m    521\u001b[39m log.debug(\u001b[33m\"\u001b[39m\u001b[33mIncremented Retry for (url=\u001b[39m\u001b[33m'\u001b[39m\u001b[38;5;132;01m%s\u001b[39;00m\u001b[33m'\u001b[39m\u001b[33m): \u001b[39m\u001b[38;5;132;01m%r\u001b[39;00m\u001b[33m\"\u001b[39m, url, new_retry)\n",
      "\u001b[31mMaxRetryError\u001b[39m: HTTPSConnectionPool(host='oceanography.azurewebsites.net', port=443): Max retries exceeded with url: /api/profile?day=3&index=2 (Caused by NameResolutionError(\"<urllib3.connection.HTTPSConnection object at 0x7aa1150eae40>: Failed to resolve 'oceanography.azurewebsites.net' ([Errno -2] Name or service not known)\"))",
      "\nDuring handling of the above exception, another exception occurred:\n",
      "\u001b[31mConnectionError\u001b[39m                           Traceback (most recent call last)",
      "\u001b[36mCell\u001b[39m\u001b[36m \u001b[39m\u001b[32mIn[1]\u001b[39m\u001b[32m, line 2\u001b[39m\n\u001b[32m      1\u001b[39m \u001b[38;5;28;01mimport\u001b[39;00m\u001b[38;5;250m \u001b[39m\u001b[34;01moceanclient\u001b[39;00m\u001b[38;5;250m \u001b[39m\u001b[38;5;28;01mas\u001b[39;00m\u001b[38;5;250m \u001b[39m\u001b[34;01moc\u001b[39;00m\n\u001b[32m----> \u001b[39m\u001b[32m2\u001b[39m dfT, dfS = oc.Chart(\u001b[33m'\u001b[39m\u001b[33m2022-01-03\u001b[39m\u001b[33m'\u001b[39m, \u001b[32m2\u001b[39m)\n",
      "\u001b[36mFile \u001b[39m\u001b[32m~/oceanography/oceanclient/oceanclient.py:20\u001b[39m, in \u001b[36mChart\u001b[39m\u001b[34m(s, n)\u001b[39m\n\u001b[32m     18\u001b[39m \u001b[38;5;66;03m# Step 1: Look up the time range for the chosen profile\u001b[39;00m\n\u001b[32m     19\u001b[39m profile_request = \u001b[33m'\u001b[39m\u001b[33mhttps://oceanography.azurewebsites.net/api/profile?day=\u001b[39m\u001b[33m'\u001b[39m + day + \u001b[33m'\u001b[39m\u001b[33m&index=\u001b[39m\u001b[33m'\u001b[39m + index\n\u001b[32m---> \u001b[39m\u001b[32m20\u001b[39m profile_response = requests.get(profile_request)\n\u001b[32m     21\u001b[39m \u001b[38;5;28;01mif\u001b[39;00m \u001b[38;5;129;01mnot\u001b[39;00m profile_response.status_code == \u001b[32m200\u001b[39m: \u001b[38;5;28mprint\u001b[39m(\u001b[33m'\u001b[39m\u001b[33muh oh profile response was not 200\u001b[39m\u001b[33m'\u001b[39m)\n\u001b[32m     22\u001b[39m r = profile_response.json()\n",
      "\u001b[36mFile \u001b[39m\u001b[32m~/miniconda3/envs/epipelargosy/lib/python3.13/site-packages/requests/api.py:73\u001b[39m, in \u001b[36mget\u001b[39m\u001b[34m(url, params, **kwargs)\u001b[39m\n\u001b[32m     62\u001b[39m \u001b[38;5;28;01mdef\u001b[39;00m\u001b[38;5;250m \u001b[39m\u001b[34mget\u001b[39m(url, params=\u001b[38;5;28;01mNone\u001b[39;00m, **kwargs):\n\u001b[32m     63\u001b[39m \u001b[38;5;250m    \u001b[39m\u001b[33mr\u001b[39m\u001b[33;03m\"\"\"Sends a GET request.\u001b[39;00m\n\u001b[32m     64\u001b[39m \n\u001b[32m     65\u001b[39m \u001b[33;03m    :param url: URL for the new :class:`Request` object.\u001b[39;00m\n\u001b[32m   (...)\u001b[39m\u001b[32m     70\u001b[39m \u001b[33;03m    :rtype: requests.Response\u001b[39;00m\n\u001b[32m     71\u001b[39m \u001b[33;03m    \"\"\"\u001b[39;00m\n\u001b[32m---> \u001b[39m\u001b[32m73\u001b[39m     \u001b[38;5;28;01mreturn\u001b[39;00m request(\u001b[33m\"\u001b[39m\u001b[33mget\u001b[39m\u001b[33m\"\u001b[39m, url, params=params, **kwargs)\n",
      "\u001b[36mFile \u001b[39m\u001b[32m~/miniconda3/envs/epipelargosy/lib/python3.13/site-packages/requests/api.py:59\u001b[39m, in \u001b[36mrequest\u001b[39m\u001b[34m(method, url, **kwargs)\u001b[39m\n\u001b[32m     55\u001b[39m \u001b[38;5;66;03m# By using the 'with' statement we are sure the session is closed, thus we\u001b[39;00m\n\u001b[32m     56\u001b[39m \u001b[38;5;66;03m# avoid leaving sockets open which can trigger a ResourceWarning in some\u001b[39;00m\n\u001b[32m     57\u001b[39m \u001b[38;5;66;03m# cases, and look like a memory leak in others.\u001b[39;00m\n\u001b[32m     58\u001b[39m \u001b[38;5;28;01mwith\u001b[39;00m sessions.Session() \u001b[38;5;28;01mas\u001b[39;00m session:\n\u001b[32m---> \u001b[39m\u001b[32m59\u001b[39m     \u001b[38;5;28;01mreturn\u001b[39;00m session.request(method=method, url=url, **kwargs)\n",
      "\u001b[36mFile \u001b[39m\u001b[32m~/miniconda3/envs/epipelargosy/lib/python3.13/site-packages/requests/sessions.py:589\u001b[39m, in \u001b[36mSession.request\u001b[39m\u001b[34m(self, method, url, params, data, headers, cookies, files, auth, timeout, allow_redirects, proxies, hooks, stream, verify, cert, json)\u001b[39m\n\u001b[32m    584\u001b[39m send_kwargs = {\n\u001b[32m    585\u001b[39m     \u001b[33m\"\u001b[39m\u001b[33mtimeout\u001b[39m\u001b[33m\"\u001b[39m: timeout,\n\u001b[32m    586\u001b[39m     \u001b[33m\"\u001b[39m\u001b[33mallow_redirects\u001b[39m\u001b[33m\"\u001b[39m: allow_redirects,\n\u001b[32m    587\u001b[39m }\n\u001b[32m    588\u001b[39m send_kwargs.update(settings)\n\u001b[32m--> \u001b[39m\u001b[32m589\u001b[39m resp = \u001b[38;5;28mself\u001b[39m.send(prep, **send_kwargs)\n\u001b[32m    591\u001b[39m \u001b[38;5;28;01mreturn\u001b[39;00m resp\n",
      "\u001b[36mFile \u001b[39m\u001b[32m~/miniconda3/envs/epipelargosy/lib/python3.13/site-packages/requests/sessions.py:703\u001b[39m, in \u001b[36mSession.send\u001b[39m\u001b[34m(self, request, **kwargs)\u001b[39m\n\u001b[32m    700\u001b[39m start = preferred_clock()\n\u001b[32m    702\u001b[39m \u001b[38;5;66;03m# Send the request\u001b[39;00m\n\u001b[32m--> \u001b[39m\u001b[32m703\u001b[39m r = adapter.send(request, **kwargs)\n\u001b[32m    705\u001b[39m \u001b[38;5;66;03m# Total elapsed time of the request (approximately)\u001b[39;00m\n\u001b[32m    706\u001b[39m elapsed = preferred_clock() - start\n",
      "\u001b[36mFile \u001b[39m\u001b[32m~/miniconda3/envs/epipelargosy/lib/python3.13/site-packages/requests/adapters.py:700\u001b[39m, in \u001b[36mHTTPAdapter.send\u001b[39m\u001b[34m(self, request, stream, timeout, verify, cert, proxies)\u001b[39m\n\u001b[32m    696\u001b[39m     \u001b[38;5;28;01mif\u001b[39;00m \u001b[38;5;28misinstance\u001b[39m(e.reason, _SSLError):\n\u001b[32m    697\u001b[39m         \u001b[38;5;66;03m# This branch is for urllib3 v1.22 and later.\u001b[39;00m\n\u001b[32m    698\u001b[39m         \u001b[38;5;28;01mraise\u001b[39;00m SSLError(e, request=request)\n\u001b[32m--> \u001b[39m\u001b[32m700\u001b[39m     \u001b[38;5;28;01mraise\u001b[39;00m \u001b[38;5;167;01mConnectionError\u001b[39;00m(e, request=request)\n\u001b[32m    702\u001b[39m \u001b[38;5;28;01mexcept\u001b[39;00m ClosedPoolError \u001b[38;5;28;01mas\u001b[39;00m e:\n\u001b[32m    703\u001b[39m     \u001b[38;5;28;01mraise\u001b[39;00m \u001b[38;5;167;01mConnectionError\u001b[39;00m(e, request=request)\n",
      "\u001b[31mConnectionError\u001b[39m: HTTPSConnectionPool(host='oceanography.azurewebsites.net', port=443): Max retries exceeded with url: /api/profile?day=3&index=2 (Caused by NameResolutionError(\"<urllib3.connection.HTTPSConnection object at 0x7aa1150eae40>: Failed to resolve 'oceanography.azurewebsites.net' ([Errno -2] Name or service not known)\"))"
     ]
    }
   ],
   "source": [
    "import oceanclient as oc\n",
    "dfT, dfS = oc.Chart('2022-01-03', 2)"
   ]
  },
  {
   "cell_type": "code",
   "execution_count": null,
   "id": "e9b9213c-17a5-4d0b-9fa2-82a886eb74ac",
   "metadata": {
    "tags": []
   },
   "outputs": [],
   "source": [
    "dfT"
   ]
  },
  {
   "cell_type": "code",
   "execution_count": null,
   "id": "d45a027e-9b7e-4365-b021-5d6ae84b30a8",
   "metadata": {
    "tags": []
   },
   "outputs": [],
   "source": [
    "dfS"
   ]
  },
  {
   "cell_type": "markdown",
   "id": "11808777-fedd-45d7-8785-2f71101e4bc5",
   "metadata": {},
   "source": [
    "### Data client explanation\n",
    "\n",
    "\n",
    "This code: \n",
    "\n",
    "\n",
    "```\n",
    "import oceanclient as oc\n",
    "dfT, dfS = oc.Chart('2022-01-05', 6)\n",
    "```\n",
    "\n",
    "\n",
    "creates a chart and returns two `pandas` dataframes, after some\n",
    "preparatory steps.\n",
    "\n",
    "\n",
    "* Install Jupyter Lab\n",
    "* `git clone https://github.com/robfatland/oceanclient`\n",
    "* make sure the necessary Python packages are installed\n",
    "    * Should be adequate: `requests`, `time`, `pandas`, `numpy`, `matplotlib`"
   ]
  },
  {
   "cell_type": "markdown",
   "id": "136acd70-3681-4451-89a8-3b04d59d4b6c",
   "metadata": {},
   "source": [
    "With this preparation done the two lines of code at the top of `sensors.ipynb` \n",
    "will run. The first line of code runs the module file `oceanclient.py` to make\n",
    "the `Chart()` function available. The second line of code then runs `Chart()` by\n",
    "passing two arguments: A date and an integer from 1 to 9 inclusive. \n",
    "\n",
    "\n",
    "In addition to presenting the chart, this function call also returns two `pandas` \n",
    "dataframes that are assigned to `dfT` and `dfS`, respectively temperature and\n",
    "salinity. The data represent a profile (vertical axis) through 200 meters of the\n",
    "upper ocean; hence as depth increases from the surface to 200 meters depth \n",
    "the ocean temperature decreases and the salinity increases. \n",
    "\n",
    "\n",
    "As this is a small example only the days January 1 through 5 of 2022 are available.\n",
    "Profiling runs happen nine times per day, hence the second parameter takes a value \n",
    "of 1 through 9. In sum about 45 profiles are available. Next we turn to the backing\n",
    "effort required to set up this data API. "
   ]
  },
  {
   "cell_type": "markdown",
   "id": "20315957-9d34-4375-9875-82079a26aaee",
   "metadata": {},
   "source": [
    "### Backing effort for this data API\n",
    "\n",
    "\n",
    "To expand on how the data API demonstrated above was built it will be helpful to\n",
    "imagine a **Builder**. A good candidate Builder for the path we have followed\n",
    "would be an individual or a small team comfortable with Linux and Python; who\n",
    "are also positively inclined towards learning a cloud computing platform. There are\n",
    "many cloud platform options and we tend to focus on the three *big* ones: AWS, GCP \n",
    "and Azure. In fact this example was built on Azure but could as easily have been\n",
    "built on any of the others.\n",
    "\n",
    "\n",
    "A second person to imagine for this narrative is a **Designer** invested\n",
    "in providing access to a particular **Dataset**. The Designer and Builder may of course\n",
    "be the same person.\n",
    "\n",
    "\n",
    "Since this is a retrograde narrative: Imagine that the Designer and Builder have \n",
    "already created a Dataset API. The next step is to create a Client in the manner\n",
    "of this `oceanclient` repository described above. A more involved process is to\n",
    "create and publish a Python *package* to PyPI / conda-forge etcetera. This has\n",
    "the advantage of increasing the scope of availability of the Client; but further\n",
    "details are beyond the scope of these remarks.\n",
    "\n",
    "\n",
    "The next step of this retrograde narrative is to build the data API. In other words:\n",
    "Chronologically this happens first. Here is a broad outline of the steps including\n",
    "parenthetical details from this example.\n",
    "\n",
    "\n",
    "- Design the data access of interest: Dataset and format\n",
    "    - Temperature and Salinity are selected from 20 sensor types as simple examples\n",
    "    - Pandas dataframes are very simple to work with (contrast with XArray Datasets)\n",
    "- Configure / clean the data\n",
    "    - We are only interested in profiler *ascent* data\n",
    "        - ...while *descent* and *at-rest* sensor data are not of primary importance\n",
    "        - ...the nine ascent profiles acquired per day are indexed 1, 2, ..., 9\n",
    "- Load the data into a cloud database\n",
    "    - We used VSCode as the development environment\n",
    "        - ...in conjunction with a low power / low cost Azure Virtual Machine\n",
    "        - ...and a NoSQL database (see *Azure Cosmos DB*)\n",
    "- Test simple queries to verify correct operation\n",
    "    - Here the data accessed through the cloud database should match \"same data in hand\" \n",
    "- Create a web-facing point of contact\n",
    "    - This is a URL that runs a serverless function\n",
    "    - See 'Azure Function App'\n",
    "    - We can verify this API works as expected prior to connecting it to the data source\n",
    "- Connect local Python code to the API by means of the `requests` library\n",
    "    - Once this is established it will be helpful in creating the Client as described above\n",
    "- Provide secure credentials to the serverless function to access the database\n",
    "    - This insulates the database from direct contact from the internet\n",
    "- Connect the serverless function to the database\n",
    "    - The test is now a there-and-back-again transaction:\n",
    "        - Local Python code > API call > request > Serverless Function > Database query\n",
    "        - Database response > Serverless function > reply > local Python\n",
    "    - This transaction works smoothly for a few thousand data points\n",
    "        - The transaction time is a few seconds\n",
    "\n",
    "\n",
    "Detailed notes on putting this example system together may be found at \n",
    "[this site](https://github.com/robfatland/nexus/blob/gh-pages/data/api.md).\n",
    "\n",
    "\n",
    "To reverse the retrograde narrative: A research team decides to make data available \n",
    "through an HTTP API. The Designer and Builder work together to refine and stage the\n",
    "key dataset on a cloud database. They set up and test a secure Serverless Function\n",
    "interface running on the cloud that returns data from this database. The Serverless\n",
    "Function is low cost and easy to build using well-established tools. Finally the\n",
    "Designer and Builder set up an example Client as a GitHub repository. This is easily\n",
    "copied to a local workstation via `git clone` where it can be run as an example\n",
    "interface to the data. \n",
    "\n",
    "\n",
    "\n",
    "\n"
   ]
  },
  {
   "cell_type": "code",
   "execution_count": null,
   "id": "4f7f5024-1d5b-473e-8382-33ea5beab833",
   "metadata": {},
   "outputs": [],
   "source": [
    "import torch           # is pytorch installed?"
   ]
  }
 ],
 "metadata": {
  "kernelspec": {
   "display_name": "Python 3 (ipykernel)",
   "language": "python",
   "name": "python3"
  },
  "language_info": {
   "codemirror_mode": {
    "name": "ipython",
    "version": 3
   },
   "file_extension": ".py",
   "mimetype": "text/x-python",
   "name": "python",
   "nbconvert_exporter": "python",
   "pygments_lexer": "ipython3",
   "version": "3.13.4"
  }
 },
 "nbformat": 4,
 "nbformat_minor": 5
}
