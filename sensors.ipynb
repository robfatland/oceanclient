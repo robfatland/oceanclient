{
 "cells": [
  {
   "cell_type": "code",
   "execution_count": null,
   "id": "fd241f83-7d12-432c-9cb5-62b8044c44ac",
   "metadata": {},
   "outputs": [],
   "source": [
    "import oceanclient as oc\n",
    "dfT, dfS = oc.Chart('2022-01-05', 6)"
   ]
  },
  {
   "cell_type": "code",
   "execution_count": null,
   "id": "e9b9213c-17a5-4d0b-9fa2-82a886eb74ac",
   "metadata": {},
   "outputs": [],
   "source": [
    "dfT"
   ]
  },
  {
   "cell_type": "code",
   "execution_count": null,
   "id": "d45a027e-9b7e-4365-b021-5d6ae84b30a8",
   "metadata": {},
   "outputs": [],
   "source": [
    "dfS"
   ]
  },
  {
   "cell_type": "code",
   "execution_count": null,
   "id": "5ffbf9d2-b535-4e39-b178-b1f40eb6376b",
   "metadata": {},
   "outputs": [],
   "source": []
  }
 ],
 "metadata": {
  "kernelspec": {
   "display_name": "Python 3 (ipykernel)",
   "language": "python",
   "name": "python3"
  },
  "language_info": {
   "codemirror_mode": {
    "name": "ipython",
    "version": 3
   },
   "file_extension": ".py",
   "mimetype": "text/x-python",
   "name": "python",
   "nbconvert_exporter": "python",
   "pygments_lexer": "ipython3",
   "version": "3.12.2"
  }
 },
 "nbformat": 4,
 "nbformat_minor": 5
}
