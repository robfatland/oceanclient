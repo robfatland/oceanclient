{
 "cells": [
  {
   "cell_type": "markdown",
   "id": "8050fa00-a7dc-445d-9f38-418eeb98aa8a",
   "metadata": {},
   "source": [
    "## Example data client\n",
    "\n",
    "The following two lines of code obtain and chart a small dataset. More details \n",
    "are provided [below](#Data-client-explanation)."
   ]
  },
  {
   "cell_type": "code",
   "execution_count": null,
   "id": "fd241f83-7d12-432c-9cb5-62b8044c44ac",
   "metadata": {
    "tags": []
   },
   "outputs": [],
   "source": [
    "import oceanclient as oc\n",
    "dfT, dfS = oc.Chart('2022-01-05', 8)"
   ]
  },
  {
   "cell_type": "code",
   "execution_count": null,
   "id": "e9b9213c-17a5-4d0b-9fa2-82a886eb74ac",
   "metadata": {
    "tags": []
   },
   "outputs": [],
   "source": [
    "dfT"
   ]
  },
  {
   "cell_type": "code",
   "execution_count": null,
   "id": "d45a027e-9b7e-4365-b021-5d6ae84b30a8",
   "metadata": {
    "tags": []
   },
   "outputs": [],
   "source": [
    "dfS"
   ]
  },
  {
   "cell_type": "markdown",
   "id": "f38afde6-adf4-493e-a1c3-b3a91ab4567a",
   "metadata": {},
   "source": [
    "### Data client explanation\n",
    "\n",
    "\n",
    "This narrative works in retrograde fashion: From the above brief example\n",
    "backwards to the physical system we are interested in observing.\n",
    "\n",
    "\n",
    "In order for this code \n",
    "\n",
    "\n",
    "```\n",
    "import oceanclient as oc\n",
    "dfT, dfS = oc.Chart('2022-01-05', 6)\n",
    "```\n",
    "\n",
    "\n",
    "to run properly there are three necessary preparation steps. \n",
    "\n",
    "\n",
    "The first step is to clone a GitHub\n",
    "repository, that is, make a local copy on your workstation. \n",
    "The Linux `bash` shell command is\n",
    "\n",
    "\n",
    "```\n",
    "git clone https://github.com/robfatland/oceanclient\n",
    "```\n",
    "\n",
    "\n",
    "This creates a folder called `oceanclient` containing a Python\n",
    "module file `oceanclient.py` and this Jupyter notebook `sensors.ipynb`. \n",
    "\n",
    "\n",
    "This is the second preparatory step is to install Python including\n",
    "Jupyter Lab, a browser based interpreter that runs Jupyter notebooks. \n",
    "This interpreter is launched via\n",
    "\n",
    "\n",
    "```\n",
    "jupyter lab\n",
    "```\n",
    "\n",
    "\n",
    "The third preparatory step is to verify that five Python libraries are installed,\n",
    "to wit: `requests`, `time`, `pandas`, `numpy` and `matplotlib`. \n",
    "\n",
    "\n",
    "With this preparation done the two lines of code at the top of `sensors.ipynb` \n",
    "will run. The first line of code runs the module file `oceanclient.py` to make\n",
    "the `Chart()` function available. The second line of code then runs `Chart()` by\n",
    "passing two arguments: A date and an integer from 1 to 9 inclusive. \n",
    "\n",
    "\n",
    "In addition to presenting the chart, this function call also returns two `pandas` \n",
    "dataframes that are assigned to `dfT` and `dfS`, respectively temperature and\n",
    "salinity. The data represent a profile (vertical axis) through 200 meters of the\n",
    "upper ocean; hence as depth increases from the surface to 200 meters depth \n",
    "the ocean temperature decreases and the salinity increases. \n",
    "\n",
    "\n",
    "As this is a small example only the days January 1 through 5 of 2022 are available.\n",
    "Profiling runs happen nine times per day, hence the second parameter takes a value \n",
    "of 1 through 9. In sum about 45 profiles are available. Next we turn to the backing\n",
    "effort required to set up this data API. "
   ]
  },
  {
   "cell_type": "markdown",
   "id": "20315957-9d34-4375-9875-82079a26aaee",
   "metadata": {},
   "source": [
    "### Backing effort for this data API\n",
    "\n",
    "\n",
    "To expand on how the data API demonstrated above was built it will be helpful to\n",
    "imagine a **Builder**. A good candidate Builder for the path we have followed\n",
    "would be an individual or a small team comfortable with Linux and Python; who\n",
    "are also positively inclined towards learning a cloud computing platform. There are\n",
    "many cloud platform options and we tend to focus on the three *big* ones: AWS, GCP \n",
    "and Azure. In fact this example was built on Azure but could as easily have been\n",
    "built on any of the others.\n",
    "\n",
    "\n",
    "A second person to imagine for this narrative is a **Designer** invested\n",
    "in providing access to a particular **Dataset**. The Designer and Builder may of course\n",
    "be the same person.\n",
    "\n",
    "\n",
    "Since this is a retrograde narrative: Imagine that the Designer and Builder have \n",
    "already created a Dataset API. The next step is to create a Client in the manner\n",
    "of this `oceanclient` repository described above. A more involved process is to\n",
    "create and publish a Python *package* to PyPI / conda-forge etcetera. This has\n",
    "the advantage of increasing the scope of availability of the Client; but further\n",
    "details are beyond the scope of these remarks.\n",
    "\n",
    "\n",
    "The next step of this retrograde narrative is to build the data API. In other words:\n",
    "Chronologically this happens first. Here is a broad outline of the steps including\n",
    "parenthetical details from this example.\n",
    "\n",
    "\n",
    "- Design the data access of interest: Dataset and format\n",
    "    - Temperature and Salinity are selected from 20 sensor types as simple examples\n",
    "    - Pandas dataframes are very simple to work with (contrast with XArray Datasets)\n",
    "- Configure / clean the data\n",
    "    - We are only interested in profiler *ascent* data\n",
    "        - ...while *descent* and *at-rest* sensor data are not of primary importance\n",
    "        - ...the nine ascent profiles acquired per day are indexed 1, 2, ..., 9\n",
    "- Load the data into a cloud database\n",
    "    - We used VSCode as the development environment\n",
    "        - ...in conjunction with a low power / low cost Azure Virtual Machine\n",
    "        - ...and a NoSQL database (see *Azure Cosmos DB*)\n",
    "- Test simple queries to verify correct operation\n",
    "    - Here the data accessed through the cloud database should match \"same data in hand\" \n",
    "- Create a web-facing point of contact\n",
    "    - This is a URL that runs a serverless function\n",
    "    - See 'Azure Function App'\n",
    "    - We can verify this API works as expected prior to connecting it to the data source\n",
    "- Connect local Python code to the API by means of the `requests` library\n",
    "    - Once this is established it will be helpful in creating the Client as described above\n",
    "- Provide secure credentials to the serverless function to access the database\n",
    "    - This insulates the database from direct contact from the internet\n",
    "- Connect the serverless function to the database\n",
    "    - The test is now a there-and-back-again transaction:\n",
    "        - Local Python code > API call > request > Serverless Function > Database query\n",
    "        - Database response > Serverless function > reply > local Python\n",
    "    - This transaction works smoothly for a few thousand data points\n",
    "        - The transaction time is a few seconds\n",
    "\n",
    "\n",
    "Detailed notes on putting this example system together may be found at \n",
    "[this site](https://github.com/robfatland/nexus/blob/gh-pages/data/api.md).\n",
    "\n",
    "\n",
    "To reverse the retrograde narrative: A research team decides to make data available \n",
    "through an HTTP API. The Designer and Builder work together to refine and stage the\n",
    "key dataset on a cloud database. They set up and test a secure Serverless Function\n",
    "interface running on the cloud that returns data from this database. The Serverless\n",
    "Function is low cost and easy to build using well-established tools. Finally the\n",
    "Designer and Builder set up an example Client as a GitHub repository. This is easily\n",
    "copied to a local workstation via `git clone` where it can be run as an example\n",
    "interface to the data. \n",
    "\n",
    "\n",
    "\n",
    "\n"
   ]
  },
  {
   "cell_type": "code",
   "execution_count": null,
   "id": "4f7f5024-1d5b-473e-8382-33ea5beab833",
   "metadata": {},
   "outputs": [],
   "source": [
    "import torch           # is pytorch installed?"
   ]
  }
 ],
 "metadata": {
  "kernelspec": {
   "display_name": "Python 3 (ipykernel)",
   "language": "python",
   "name": "python3"
  },
  "language_info": {
   "codemirror_mode": {
    "name": "ipython",
    "version": 3
   },
   "file_extension": ".py",
   "mimetype": "text/x-python",
   "name": "python",
   "nbconvert_exporter": "python",
   "pygments_lexer": "ipython3",
   "version": "3.12.2"
  }
 },
 "nbformat": 4,
 "nbformat_minor": 5
}
